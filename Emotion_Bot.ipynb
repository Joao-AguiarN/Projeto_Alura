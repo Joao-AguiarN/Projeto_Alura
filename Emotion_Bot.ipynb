{
  "nbformat": 4,
  "nbformat_minor": 0,
  "metadata": {
    "colab": {
      "provenance": [],
      "authorship_tag": "ABX9TyOjvzCs8CxBSSDUCE3ODp15",
      "include_colab_link": true
    },
    "kernelspec": {
      "name": "python3",
      "display_name": "Python 3"
    },
    "language_info": {
      "name": "python"
    }
  },
  "cells": [
    {
      "cell_type": "markdown",
      "metadata": {
        "id": "view-in-github",
        "colab_type": "text"
      },
      "source": [
        "<a href=\"https://colab.research.google.com/github/Joao-AguiarN/Projeto_Alura/blob/main/Emotion_Bot.ipynb\" target=\"_parent\"><img src=\"https://colab.research.google.com/assets/colab-badge.svg\" alt=\"Open In Colab\"/></a>"
      ]
    },
    {
      "cell_type": "markdown",
      "source": [
        "IMPORTANDO BIBLIOTECAS - DEFININDO A API KEY - E CONFIGURANDO"
      ],
      "metadata": {
        "id": "nDb9p858VJKq"
      }
    },
    {
      "cell_type": "code",
      "source": [
        "import google.generativeai as genai\n",
        "\n",
        "from google.colab import userdata\n",
        "\n",
        "api_key = userdata.get('SECRET_KEY')\n",
        "\n",
        "\n",
        "genai.configure(api_key=api_key)\n"
      ],
      "metadata": {
        "id": "IVa9_-87L1ie"
      },
      "execution_count": 49,
      "outputs": []
    },
    {
      "cell_type": "markdown",
      "source": [],
      "metadata": {
        "id": "7246xEj-VTKe"
      }
    },
    {
      "cell_type": "markdown",
      "source": [
        "CONFIGURAÇÕES DE GERAÇÃO"
      ],
      "metadata": {
        "id": "4wkH8YqXVV-H"
      }
    },
    {
      "cell_type": "code",
      "source": [
        "GenerationConfig = {\n",
        "    \"candidate_count\": 1,\n",
        "    \"temperature\": 0.7\n",
        "}"
      ],
      "metadata": {
        "id": "AOjoArHOTrC4"
      },
      "execution_count": 51,
      "outputs": []
    },
    {
      "cell_type": "markdown",
      "source": [
        "CONFIGURAÇÕES DE SEGURANÇA"
      ],
      "metadata": {
        "id": "WLWUxJEdVW14"
      }
    },
    {
      "cell_type": "code",
      "source": [
        "safe_set = {\n",
        "    \"HARASSMENT\": \"BLOCK_NONE\",\n",
        "    \"HATE\": \"BLOCK_NONE\",\n",
        "    \"SEXUAL\": \"BLOCK_NONE\",\n",
        "    \"DANGEROUS\": \"BLOCK_NONE\"\n",
        "}"
      ],
      "metadata": {
        "id": "24N8jXMgUPYf"
      },
      "execution_count": 52,
      "outputs": []
    },
    {
      "cell_type": "markdown",
      "source": [
        "INICIANDO O MODELO"
      ],
      "metadata": {
        "id": "3zKTk7JdVsJO"
      }
    },
    {
      "cell_type": "code",
      "source": [
        "model = genai.GenerativeModel(\"gemini-1.0-pro\")"
      ],
      "metadata": {
        "id": "eZzJPv95VuHb"
      },
      "execution_count": 53,
      "outputs": []
    },
    {
      "cell_type": "markdown",
      "source": [],
      "metadata": {
        "id": "wpr1l5-7cGt2"
      }
    },
    {
      "cell_type": "markdown",
      "source": [
        "DEFININDO A VARIAVEL CHAT"
      ],
      "metadata": {
        "id": "AcpRj1ePhcDi"
      }
    },
    {
      "cell_type": "code",
      "source": [
        "chat = model.start_chat(history=[])"
      ],
      "metadata": {
        "id": "MDZwPElkfCMQ"
      },
      "execution_count": 54,
      "outputs": []
    },
    {
      "cell_type": "markdown",
      "source": [
        "DEFININDO A VARIAVEL PROMPT"
      ],
      "metadata": {
        "id": "Qm9y7J0UhlBs"
      }
    },
    {
      "cell_type": "code",
      "source": [
        "while True:\n",
        "    r = input(\"Como você está se setindo emocionalmente agora? E por qual motivo se sente assim? \")\n",
        "\n",
        "    prompt = f\"Escreva um texto ELABORADO para uma pessoa que está se sentindo {r} em seu estado emocional. E tambem gere um texto motivacional sobre o assunto em estrutura de texto\"\n",
        "\n",
        "    print(\"=-\"*40)\n",
        "    response = chat.send_message(prompt)\n",
        "    print(f\"resposta: {response.text} \\n\")\n",
        "\n",
        "\n"
      ],
      "metadata": {
        "id": "1L6596ahhMMa"
      },
      "execution_count": null,
      "outputs": []
    }
  ]
}
